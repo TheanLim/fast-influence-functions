{
 "cells": [
  {
   "cell_type": "code",
   "execution_count": 1,
   "metadata": {},
   "outputs": [
    {
     "name": "stdout",
     "output_type": "stream",
     "text": [
      "9\n"
     ]
    }
   ],
   "source": [
    "print(9)"
   ]
  },
  {
   "cell_type": "code",
   "execution_count": 2,
   "metadata": {},
   "outputs": [],
   "source": [
    "from experiment_config import *"
   ]
  },
  {
   "cell_type": "code",
   "execution_count": 7,
   "metadata": {},
   "outputs": [
    {
     "data": {
      "text/plain": [
       "(1, 1)"
      ]
     },
     "execution_count": 7,
     "metadata": {},
     "output_type": "execute_result"
    }
   ],
   "source": [
    "get_vars(\"only-correct\")"
   ]
  },
  {
   "cell_type": "code",
   "execution_count": 6,
   "metadata": {},
   "outputs": [],
   "source": [
    "set_vars(\"only-correct\", cur_simulation_count = )"
   ]
  },
  {
   "cell_type": "code",
   "execution_count": 6,
   "metadata": {},
   "outputs": [],
   "source": [
    "reload_config()"
   ]
  },
  {
   "cell_type": "code",
   "execution_count": null,
   "metadata": {},
   "outputs": [],
   "source": [
    "import inspect \n",
    "import importlib \n",
    "import sys \n",
    "MAX_SIM_COUNT = 4 \n",
    "correct_prev_simulation_count = 1\n",
    "correct_prev_test_index = 0\n",
    "incorrect_prev_simulation_count = 1\n",
    "incorrect_prev_test_index = 14\n",
    "\n",
    "\n",
    "def reload_config():\n",
    "    importlib.reload(sys.modules['experiment_config'])\n",
    "\n",
    "def get_vars(mode):\n",
    "    # Reload the module first before getting info\n",
    "    reload_config()\n",
    "    \n",
    "    if mode ==\"only-correct\":\n",
    "        return correct_prev_simulation_count, correct_prev_test_index\n",
    "    else:\n",
    "        return incorrect_prev_simulation_count, incorrect_prev_test_index\n",
    "\n",
    "def set_vars(mode, \n",
    "             cur_simulation_count = None, \n",
    "             cur_test_index = None):    \n",
    "    # Account for missing vars\n",
    "    if (cur_simulation_count is None) or (cur_test_index is None):\n",
    "        \n",
    "        prev_simulation_count, prev_test_index = get_vars(mode)\n",
    "        cur_simulation_count = prev_simulation_count if cur_simulation_count is None else cur_simulation_count\n",
    "        cur_test_index = prev_test_index if cur_test_index is None else cur_test_index\n",
    "        \n",
    "    if mode ==\"only-correct\":\n",
    "        correct_prev_simulation_count = cur_simulation_count\n",
    "        correct_prev_test_index = cur_test_index\n",
    "        incorrect_prev_simulation_count, incorrect_prev_test_index = get_vars(\"only-incorrect\")\n",
    "    else:\n",
    "        incorrect_prev_simulation_count = cur_simulation_count\n",
    "        incorrect_prev_test_index = cur_test_index\n",
    "        correct_prev_simulation_count, correct_prev_test_index = get_vars(\"only-correct\")\n",
    "    \n",
    "    out = \"import inspect \\n\"\n",
    "    out += \"import importlib \\n\"\n",
    "    out += \"import sys \\n\"\n",
    "    out += \"MAX_SIM_COUNT = 4 \\n\"\n",
    "    \n",
    "    out += \"correct_prev_simulation_count = \" + repr(correct_prev_simulation_count) + \"\\n\"\n",
    "    out += \"correct_prev_test_index = \" + repr(correct_prev_test_index) + \"\\n\"\n",
    "    \n",
    "    out += \"incorrect_prev_simulation_count = \" + repr(incorrect_prev_simulation_count) + \"\\n\"\n",
    "    out += \"incorrect_prev_test_index = \" + repr(incorrect_prev_test_index) + \"\\n\"\n",
    "    \n",
    "    out += \"\\n\\n\"\n",
    "    out += inspect.getsource(reload_config) + \"\\n\"    \n",
    "    out += inspect.getsource(get_vars) + \"\\n\"\n",
    "    out += inspect.getsource(set_vars)\n",
    "    \n",
    "    f = open(\"experiment_config.py\", \"w\")\n",
    "    f.write(out)\n",
    "    f.close()\n",
    "    \n",
    "    # Auto Reload the module after setting\n",
    "    reload_config()\n",
    "\n"
   ]
  },
  {
   "cell_type": "code",
   "execution_count": 14,
   "metadata": {},
   "outputs": [],
   "source": [
    "reload()"
   ]
  },
  {
   "cell_type": "code",
   "execution_count": 9,
   "metadata": {},
   "outputs": [],
   "source": [
    "import torch\n",
    "a = torch.load(\"experiments_outputs/stest.only-incorrect.1.1.1.collections.pth\")"
   ]
  },
  {
   "cell_type": "code",
   "execution_count": null,
   "metadata": {},
   "outputs": [],
   "source": []
  }
 ],
 "metadata": {
  "kernelspec": {
   "display_name": "Python 3",
   "language": "python",
   "name": "python3"
  },
  "language_info": {
   "codemirror_mode": {
    "name": "ipython",
    "version": 3
   },
   "file_extension": ".py",
   "mimetype": "text/x-python",
   "name": "python",
   "nbconvert_exporter": "python",
   "pygments_lexer": "ipython3",
   "version": "3.7.6"
  }
 },
 "nbformat": 4,
 "nbformat_minor": 4
}
