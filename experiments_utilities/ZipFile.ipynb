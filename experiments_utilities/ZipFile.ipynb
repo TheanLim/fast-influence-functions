{
 "cells": [
  {
   "cell_type": "code",
   "execution_count": 1,
   "metadata": {},
   "outputs": [
    {
     "name": "stdout",
     "output_type": "stream",
     "text": [
      "/home/lim.the/fast-influence-functions\n"
     ]
    }
   ],
   "source": [
    "!pwd"
   ]
  },
  {
   "cell_type": "code",
   "execution_count": 4,
   "metadata": {},
   "outputs": [
    {
     "name": "stdout",
     "output_type": "stream",
     "text": [
      "stest_partial_incomplete.zip\n"
     ]
    }
   ],
   "source": [
    "!ls ../../../scratch/lim.the"
   ]
  },
  {
   "cell_type": "code",
   "execution_count": 7,
   "metadata": {},
   "outputs": [],
   "source": [
    "from zipfile import ZipFile\n",
    "import os\n",
    "from os.path import basename\n",
    "# create a ZipFile object\n",
    "with ZipFile('../../../scratch/lim.the/stest_partial_incomplete.zip', 'w') as zipObj:\n",
    "   # Iterate over all the files in directory\n",
    "   for folderName, subfolders, filenames in os.walk(\"experiments_outputs/stest/\"):\n",
    "    for filename in filenames:\n",
    "       #create complete filepath of file in directory\n",
    "       filePath = os.path.join(folderName, filename)\n",
    "       # Add file to zip\n",
    "       zipObj.write(filePath, basename(filePath))"
   ]
  },
  {
   "cell_type": "code",
   "execution_count": 4,
   "metadata": {},
   "outputs": [],
   "source": [
    "from zipfile import ZipFile\n",
    "import os\n",
    "from os.path import basename\n",
    "# create a ZipFile object\n",
    "with ZipFile('faiss_index_lessUseIter_compressed.zip', 'w') as zipObj:\n",
    "   # Iterate over all the files in directory\n",
    "   # The directory is already at scratch\n",
    "    for folderName, subfolders, filenames in os.walk(\"../../../scratch/lim.the/faiss_index_compressed\"):\n",
    "        for filename in filenames:\n",
    "           #create complete filepath of file in directory\n",
    "           filePath = os.path.join(folderName, filename)\n",
    "           # Add file to zip\n",
    "           zipObj.write(filePath, basename(filePath))"
   ]
  },
  {
   "cell_type": "code",
   "execution_count": null,
   "metadata": {},
   "outputs": [],
   "source": []
  }
 ],
 "metadata": {
  "kernelspec": {
   "display_name": "Python 3",
   "language": "python",
   "name": "python3"
  },
  "language_info": {
   "codemirror_mode": {
    "name": "ipython",
    "version": 3
   },
   "file_extension": ".py",
   "mimetype": "text/x-python",
   "name": "python",
   "nbconvert_exporter": "python",
   "pygments_lexer": "ipython3",
   "version": "3.7.6"
  }
 },
 "nbformat": 4,
 "nbformat_minor": 4
}
