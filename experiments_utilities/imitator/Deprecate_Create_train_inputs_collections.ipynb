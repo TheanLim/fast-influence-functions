{
 "cells": [
  {
   "cell_type": "code",
   "execution_count": 2,
   "metadata": {},
   "outputs": [
    {
     "name": "stdout",
     "output_type": "stream",
     "text": [
      "Params Trainable: 14768643\n",
      "\tbert.encoder.layer.10.attention.self.query.weight\n",
      "\tbert.encoder.layer.10.attention.self.query.bias\n",
      "\tbert.encoder.layer.10.attention.self.key.weight\n",
      "\tbert.encoder.layer.10.attention.self.key.bias\n",
      "\tbert.encoder.layer.10.attention.self.value.weight\n",
      "\tbert.encoder.layer.10.attention.self.value.bias\n",
      "\tbert.encoder.layer.10.attention.output.dense.weight\n",
      "\tbert.encoder.layer.10.attention.output.dense.bias\n",
      "\tbert.encoder.layer.10.attention.output.LayerNorm.weight\n",
      "\tbert.encoder.layer.10.attention.output.LayerNorm.bias\n",
      "\tbert.encoder.layer.10.intermediate.dense.weight\n",
      "\tbert.encoder.layer.10.intermediate.dense.bias\n",
      "\tbert.encoder.layer.10.output.dense.weight\n",
      "\tbert.encoder.layer.10.output.dense.bias\n",
      "\tbert.encoder.layer.10.output.LayerNorm.weight\n",
      "\tbert.encoder.layer.10.output.LayerNorm.bias\n",
      "\tbert.encoder.layer.11.attention.self.query.weight\n",
      "\tbert.encoder.layer.11.attention.self.query.bias\n",
      "\tbert.encoder.layer.11.attention.self.key.weight\n",
      "\tbert.encoder.layer.11.attention.self.key.bias\n",
      "\tbert.encoder.layer.11.attention.self.value.weight\n",
      "\tbert.encoder.layer.11.attention.self.value.bias\n",
      "\tbert.encoder.layer.11.attention.output.dense.weight\n",
      "\tbert.encoder.layer.11.attention.output.dense.bias\n",
      "\tbert.encoder.layer.11.attention.output.LayerNorm.weight\n",
      "\tbert.encoder.layer.11.attention.output.LayerNorm.bias\n",
      "\tbert.encoder.layer.11.intermediate.dense.weight\n",
      "\tbert.encoder.layer.11.intermediate.dense.bias\n",
      "\tbert.encoder.layer.11.output.dense.weight\n",
      "\tbert.encoder.layer.11.output.dense.bias\n",
      "\tbert.encoder.layer.11.output.LayerNorm.weight\n",
      "\tbert.encoder.layer.11.output.LayerNorm.bias\n",
      "\tbert.pooler.dense.weight\n",
      "\tbert.pooler.dense.bias\n",
      "\tclassifier.weight\n",
      "\tclassifier.bias\n"
     ]
    },
    {
     "name": "stderr",
     "output_type": "stream",
     "text": [
      "100%|██████████| 392702/392702 [00:13<00:00, 28132.91it/s]\n"
     ]
    }
   ],
   "source": [
    "from experiments import misc_utils\n",
    "from experiments import constants\n",
    "import torch\n",
    "from tqdm import tqdm\n",
    "\n",
    "\n",
    "tokenizer, model = misc_utils.create_tokenizer_and_model(\n",
    "        constants.MNLI_MODEL_PATH)\n",
    "\n",
    "(mnli_train_dataset,\n",
    " mnli_eval_dataset) = misc_utils.create_datasets(\n",
    "    task_name=\"mnli\",\n",
    "    tokenizer=tokenizer)\n",
    "    \n",
    "instance_train_data_loader = misc_utils.get_dataloader(\n",
    "        mnli_train_dataset,\n",
    "        batch_size=1,\n",
    "        random=False)\n",
    "\n",
    "train_inputs_collections = {}\n",
    "for index, train_inputs in enumerate(tqdm(instance_train_data_loader)):\n",
    "    train_inputs_collections[index] = train_inputs\n",
    "\n",
    "torch.save(train_inputs_collections, constants.MNLI_TRAIN_INPUT_COLLECTIONS_PATH)"
   ]
  },
  {
   "cell_type": "code",
   "execution_count": 6,
   "metadata": {},
   "outputs": [],
   "source": [
    "# Restart Kernel and test\n",
    "from collections import defaultdict\n",
    "from typing import List, Dict, Tuple, Optional, Union, Any\n",
    "import torch\n",
    "train_inputs_collections = torch.load(constants.MNLI_TRAIN_INPUT_COLLECTIONS_PATH)\n",
    "\n",
    "inputs_by_label: Dict[str, List[int]] = defaultdict(list)\n",
    "for i in range(len(train_inputs_collections)):\n",
    "    label = mnli_train_dataset.label_list[\n",
    "        train_inputs_collections[i][\"labels\"]]\n",
    "    inputs_by_label[label].append(i)"
   ]
  },
  {
   "cell_type": "code",
   "execution_count": null,
   "metadata": {},
   "outputs": [],
   "source": []
  }
 ],
 "metadata": {
  "kernelspec": {
   "display_name": "Python 3",
   "language": "python",
   "name": "python3"
  },
  "language_info": {
   "codemirror_mode": {
    "name": "ipython",
    "version": 3
   },
   "file_extension": ".py",
   "mimetype": "text/x-python",
   "name": "python",
   "nbconvert_exporter": "python",
   "pygments_lexer": "ipython3",
   "version": "3.7.6"
  }
 },
 "nbformat": 4,
 "nbformat_minor": 4
}
